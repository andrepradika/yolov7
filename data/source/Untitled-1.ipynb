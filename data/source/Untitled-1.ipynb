{
 "cells": [
  {
   "cell_type": "code",
   "execution_count": 1,
   "metadata": {},
   "outputs": [],
   "source": [
    "from glob import glob\n",
    "folder = glob(\"cabai/*/\", recursive = True)"
   ]
  },
  {
   "cell_type": "code",
   "execution_count": 2,
   "metadata": {},
   "outputs": [
    {
     "name": "stdout",
     "output_type": "stream",
     "text": [
      "['cabai\\\\Antaraknosa\\\\', 'cabai\\\\Bercak Daun\\\\']\n"
     ]
    }
   ],
   "source": [
    "def filter_ini_dong(l1, folder):\n",
    "    l2set = {x for x in l1}\n",
    "    l3 = [x for x in folder if x not in l2set]\n",
    "    return l3\n",
    "\n",
    "l1 = [\"\"]#cabai\\\\Antaraknosa\\\\\n",
    "l3 = filter_ini_dong(l1, folder)\n",
    "print(l3)"
   ]
  },
  {
   "cell_type": "code",
   "execution_count": 3,
   "metadata": {},
   "outputs": [
    {
     "name": "stdout",
     "output_type": "stream",
     "text": [
      "['cabai\\\\Antaraknosa\\\\Cabai - Antraknosa - 1 - 2022 12 20\\\\', 'cabai\\\\Antaraknosa\\\\Cabai - Antraknosa - 2 - 2022 12 20\\\\', 'cabai\\\\Antaraknosa\\\\Cabai - Antraknosa - 3 - 2022 12 20\\\\', 'cabai\\\\Antaraknosa\\\\Cabai - Antraknosa - 4 - 2022 12 20\\\\', 'cabai\\\\Bercak Daun\\\\Cabai - Bercak Daun - 1 - 2022 12 20\\\\', 'cabai\\\\Bercak Daun\\\\Cabai - Bercak Daun - 2 - 2022 12 20\\\\']\n",
      "6\n"
     ]
    }
   ],
   "source": [
    "kumpulan_folder = []\n",
    "for i in range(len(l3)):\n",
    "    folder = glob(f\"{l3[i]}/*/\", recursive = True)\n",
    "    kumpulan_folder.append(folder)\n",
    "    \n",
    "import itertools\n",
    "kumpulan_folder = list(itertools.chain(*kumpulan_folder))\n",
    "kumpulan_folder = [x for x in kumpulan_folder if not x.endswith('- TL\\\\')]\n",
    "print(kumpulan_folder)\n",
    "print(len(kumpulan_folder))"
   ]
  },
  {
   "cell_type": "code",
   "execution_count": 4,
   "metadata": {},
   "outputs": [],
   "source": [
    "import xml.etree.ElementTree as ET\n",
    "import glob\n",
    "import os\n",
    "import json\n",
    "import shutil, os\n",
    "\n",
    "\n",
    "def xml_to_yolo_bbox(bbox, w, h):\n",
    "    # xmin, ymin, xmax, ymax\n",
    "    x_center = ((bbox[2] + bbox[0]) / 2) / w\n",
    "    y_center = ((bbox[3] + bbox[1]) / 2) / h\n",
    "    width = (bbox[2] - bbox[0]) / w\n",
    "    height = (bbox[3] - bbox[1]) / h\n",
    "    return [x_center, y_center, width, height]\n",
    "\n",
    "\n",
    "def yolo_to_xml_bbox(bbox, w, h):\n",
    "    # x_center, y_center width heigth\n",
    "    w_half_len = (bbox[2] * w) / 2\n",
    "    h_half_len = (bbox[3] * h) / 2\n",
    "    xmin = int((bbox[0] * w) - w_half_len)\n",
    "    ymin = int((bbox[1] * h) - h_half_len)\n",
    "    xmax = int((bbox[0] * w) + w_half_len)\n",
    "    ymax = int((bbox[1] * h) + h_half_len)\n",
    "    return [xmin, ymin, xmax, ymax]\n",
    "\n",
    "\n",
    "classes = []\n",
    "output_dir_labels = \"file_train/\"\n",
    "# create the labels folder (output directory)\n",
    "os.mkdir(output_dir_labels)\n",
    "\n",
    "# identify all the xml files in the annotations folder (input directory)\n",
    "files = glob.glob(os.path.join(kumpulan_folder[0], '*.xml'))\n",
    "# loop through each \n",
    "for fil in files:\n",
    "    basename = os.path.basename(fil)\n",
    "    filename = os.path.splitext(basename)[0]\n",
    "    img_dirname = os.path.join(kumpulan_folder[0], f\"{filename}.jpg\")\n",
    "    # check if the label contains the corresponding image file\n",
    "    if not os.path.exists(os.path.join(kumpulan_folder[0], f\"{filename}.jpg\")):\n",
    "        print(f\"{filename} image does not exist!\")\n",
    "    else :\n",
    "        result = []\n",
    "        result_name = []\n",
    "        #print(os.path.join(kumpulan_folder[0], f\"{filename}.jpg\"))\n",
    "            # parse the content of the xml file\n",
    "\n",
    "        result_name.append(img_dirname)\n",
    "\n",
    "        tree = ET.parse(fil)\n",
    "        root = tree.getroot()\n",
    "        width = int(root.find(\"size\").find(\"width\").text)\n",
    "        height = int(root.find(\"size\").find(\"height\").text)\n",
    "\n",
    "        for obj in root.findall('object'):\n",
    "            label = obj.find(\"name\").text\n",
    "            # label = \"daun\"\n",
    "            # # check for new classes and append to list\n",
    "            # if label==\"kuning_keriting_daun_cabai\":\n",
    "            #     label=\"kuning_keriting\"\n",
    "            if label not in classes:\n",
    "                classes.append(label)\n",
    "            index = classes.index(label)\n",
    "            pil_bbox = [int(x.text) for x in obj.find(\"bndbox\")]\n",
    "            yolo_bbox = xml_to_yolo_bbox(pil_bbox, width, height)\n",
    "            # convert data to string\n",
    "            bbox_string = \" \".join([str(x) for x in yolo_bbox])\n",
    "            result.append(f\"{index} {bbox_string}\")\n",
    "\n",
    "        if result:\n",
    "            # generate a YOLO format text file for each xml file\n",
    "            with open(os.path.join(output_dir_labels, f\"{filename}.txt\"), \"w\", encoding=\"utf-8\") as f:\n",
    "                f.write(\"\\n\".join(result))\n",
    "            \n",
    "            for f in result_name:\n",
    "                shutil.copy(img_dirname, output_dir_labels)\n",
    "\n",
    "# generate the classes file as reference\n",
    "with open('classes.txt', 'w', encoding='utf8') as f:\n",
    "    f.write(json.dumps(classes))"
   ]
  },
  {
   "cell_type": "code",
   "execution_count": null,
   "metadata": {},
   "outputs": [],
   "source": []
  }
 ],
 "metadata": {
  "kernelspec": {
   "display_name": "Python 3",
   "language": "python",
   "name": "python3"
  },
  "language_info": {
   "codemirror_mode": {
    "name": "ipython",
    "version": 3
   },
   "file_extension": ".py",
   "mimetype": "text/x-python",
   "name": "python",
   "nbconvert_exporter": "python",
   "pygments_lexer": "ipython3",
   "version": "3.9.8"
  },
  "orig_nbformat": 4,
  "vscode": {
   "interpreter": {
    "hash": "82ed002fa2d4956f5c6aec99bcefe0f73a9f79882f3c9e2319b14958a5896ac5"
   }
  }
 },
 "nbformat": 4,
 "nbformat_minor": 2
}
